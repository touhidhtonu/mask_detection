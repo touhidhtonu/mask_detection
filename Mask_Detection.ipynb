{
  "nbformat": 4,
  "nbformat_minor": 0,
  "metadata": {
    "accelerator": "GPU",
    "colab": {
      "name": "yolov4-custom_TRAINING.ipynb",
      "provenance": [],
      "collapsed_sections": [],
      "toc_visible": true,
      "machine_shape": "hm"
    },
    "kernelspec": {
      "display_name": "Python 3",
      "name": "python3"
    }
  },
  "cells": [
    {
      "cell_type": "markdown",
      "metadata": {
        "id": "-2U9jZLJ-pGZ"
      },
      "source": [
        "# **TRAIN A CUSTOM YOLOv4 OBJECT DETECTOR**\n",
        "\n",
        "(TUTORIAL FOR BEGINNERS)"
      ]
    },
    {
      "cell_type": "markdown",
      "metadata": {
        "id": "klgpFdpHOavA"
      },
      "source": [
        "# **1) Create *`yolov4`* and *`training`* folders in your drive**\n",
        "\n",
        " Create a folder named ***yolov4*** in your drive. \n",
        " \n",
        " Next, create another folder named ***training*** inside the ***yolov4*** folder. This is where we will save our trained weights (This path is mentioned in the ***obj.data*** file which we will upload later) \n"
      ]
    },
    {
      "cell_type": "markdown",
      "metadata": {
        "id": "iJN3ZZaRaBhS"
      },
      "source": [
        "# **2) Mount drive, link your folder and navigate to /mydrive/yolov4 folder**"
      ]
    },
    {
      "cell_type": "code",
      "metadata": {
        "id": "DGbG4BwVoQIQ"
      },
      "source": [
        "#mount drive\n",
        "%cd ..\n",
        "from google.colab import drive\n",
        "drive.mount('/content/gdrive')\n",
        "\n",
        "# this creates a symbolic link so that now the path /content/gdrive/My\\ Drive/ is equal to /mydrive\n",
        "!ln -s /content/gdrive/My\\ Drive/ /mydrive\n",
        "\n",
        "# list the contents of /mydrive\n",
        "!ls /mydrive\n",
        "\n",
        "#Navigate to /mydrive/yolov4\n",
        "%cd /mydrive/yolov4"
      ],
      "execution_count": null,
      "outputs": []
    },
    {
      "cell_type": "markdown",
      "metadata": {
        "id": "0n-W3iAiY_zx"
      },
      "source": [
        "# **3) Clone `darknet` git repository** "
      ]
    },
    {
      "cell_type": "code",
      "metadata": {
        "id": "_8qS6Fb8d7Nz"
      },
      "source": [
        "!git clone https://github.com/AlexeyAB/darknet"
      ],
      "execution_count": null,
      "outputs": []
    },
    {
      "cell_type": "markdown",
      "metadata": {
        "id": "wuH8LHzDlQNX"
      },
      "source": [
        "# **4) Create & upload the following files which we need for training a custom detector**\n",
        "\n",
        "\n",
        "a.   `Labeled Custom Dataset` \n",
        "\n",
        "b.   `Custom cfg file`\n",
        "\n",
        "c.   `obj.data and obj.names files` \n",
        "\n",
        "d.   `process.py file (to create train.txt and test.txt files for training)`\n",
        "\n",
        "\n",
        "**I have uploaded my custom files on [GitHub](https://github.com/techzizou/yolov4-custom_Trainingg).\n",
        "I am working with 2 classes i.e. with_mask and without_mask**\n",
        "\n",
        "\n"
      ]
    },
    {
      "cell_type": "markdown",
      "metadata": {
        "id": "n4F5kQEfdKkt"
      },
      "source": [
        "## **4(a) Upload the Labeled custom dataset *`obj.zip`* file to the *`yolov4`* folder on your drive**\n",
        "\n",
        "\n",
        "Create the zip file **obj.zip** from the **obj** folder containing both the input image \".jpg\" files and their corresponding YOLO format labeled \".txt\" files. \n",
        "\n",
        "Upload the zip file to the ***yolov4*** folder on your drive.\n",
        "\n",
        "To know more about collecting datasets and labeling, read my [Medium article](https://medium.com/@techzizou007/image-dataset-labeling-annotation-bec3390eda2d) on this.\n"
      ]
    },
    {
      "cell_type": "markdown",
      "metadata": {
        "id": "xByDKQq3gRmH"
      },
      "source": [
        "## **4(b) Create your custom *`config`* file and upload it to your drive**\n",
        "\n",
        "Download the **yolov4-custom.cfg** file from ***darknet/cfg*** directory, make changes to it, and upload it to the ***yolov4*** folder on your drive .\n",
        "\n",
        "You can also download the custom config file from the official [AlexeyAB Github](https://www.github.com/AlexeyAB/darknet)\n",
        "\n",
        "\n",
        "**You need to make the following changes in your custom config file:**\n",
        "\n",
        "*   change line batch to batch=64\n",
        "*   change line subdivisions to subdivisions=16\n",
        "*   change line max_batches to (classes*2000 but not less than number of training images and not less than 6000), f.e. max_batches=6000 if you train for 3 classes\n",
        "*    change line steps to 80% and 90% of max_batches, f.e. steps=4800,5400\n",
        "*    set network size width=416 height=416 or any value multiple of 32\n",
        "*    change line classes=80 to your number of objects in each of 3 [yolo]-layers\n",
        "*    change [filters=255] to filters=(classes + 5)x3 in the 3 [convolutional] before each [yolo] layer, keep in mind that it only has to be the last [convolutional] before each of the [yolo] layers.\n",
        "     So if classes=1 then it should be filters=18. If classes=2 then write filters=21.\n",
        "\n"
      ]
    },
    {
      "cell_type": "markdown",
      "metadata": {
        "id": "n4w7wnywgDBY"
      },
      "source": [
        "## **4(c) Create your *`obj.data`* and *`obj.names`* files and upload to your drive**\n",
        "\n"
      ]
    },
    {
      "cell_type": "markdown",
      "metadata": {
        "id": "nOeyo0U2ya1K"
      },
      "source": [
        "### **obj.data**\n",
        "\n",
        "```\n",
        "classes = 2\n",
        "train  = data/train.txt\n",
        "valid  = data/test.txt\n",
        "names = data/obj.names\n",
        "backup = /mydrive/yolov4/training\n",
        "\n",
        "```"
      ]
    },
    {
      "cell_type": "markdown",
      "metadata": {
        "id": "UsAKuauHQNNz"
      },
      "source": [
        "\n",
        "\n",
        "\n",
        "### **obj.names**\n",
        "\n",
        "\n",
        "\n",
        "\n",
        "![download(4).png](data:image/png;base64,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)\n"
      ]
    },
    {
      "cell_type": "markdown",
      "metadata": {
        "id": "mcRuvcGuXQeX"
      },
      "source": [
        "## **4(d) Upload the *`process.py`* script file to the *`yolov4`* folder on your drive**\n",
        "\n",
        "**To divide all image files into 2 parts. 90% for train and 10% for test.**\n",
        "\n",
        "This *`process.py`* script creates the files *`train.txt`* & *`test.txt`* where the *`train.txt`* file has paths to 90% of the images and *`test.txt`* has paths to 10% of the images.\n",
        "\n",
        "You can download the ***`process.py`*** script from my [GitHub](https://github.com/techzizou/yolov4-custom_Training)."
      ]
    },
    {
      "cell_type": "markdown",
      "metadata": {
        "id": "eePMIIY3ZNlU"
      },
      "source": [
        "# **5) Make changes in the `makefile` to enable OPENCV and GPU**"
      ]
    },
    {
      "cell_type": "code",
      "metadata": {
        "id": "7_9IL3Lwd_-l"
      },
      "source": [
        "# change makefile to have GPU and OPENCV enabled\n",
        "# also set CUDNN, CUDNN_HALF and LIBSO to 1\n",
        "\n",
        "%cd darknet/\n",
        "!sed -i 's/OPENCV=0/OPENCV=1/' Makefile\n",
        "!sed -i 's/GPU=0/GPU=1/' Makefile\n",
        "!sed -i 's/CUDNN=0/CUDNN=1/' Makefile\n",
        "!sed -i 's/CUDNN_HALF=0/CUDNN_HALF=1/' Makefile\n",
        "!sed -i 's/LIBSO=0/LIBSO=1/' Makefile"
      ],
      "execution_count": null,
      "outputs": []
    },
    {
      "cell_type": "markdown",
      "metadata": {
        "id": "PXwypSyyZfwm"
      },
      "source": [
        "# **6) Run `make` command to build darknet**"
      ]
    },
    {
      "cell_type": "code",
      "metadata": {
        "id": "SGGqpRrueHsS"
      },
      "source": [
        "# build darknet \n",
        "!make"
      ],
      "execution_count": null,
      "outputs": []
    },
    {
      "cell_type": "markdown",
      "metadata": {
        "id": "4NaDcNEMNI8B"
      },
      "source": [
        "# **7) Copy all the files from the *`yolov4`* folder to the darknet directory**"
      ]
    },
    {
      "cell_type": "code",
      "metadata": {
        "id": "10exdo06Mk8F"
      },
      "source": [
        "# Clean the data and cfg folders first except the labels folder in data which is required\n",
        "\n",
        "%cd data/\n",
        "!find -maxdepth 1 -type f -exec rm -rf {} \\;\n",
        "%cd ..\n",
        "\n",
        "%rm -rf cfg/\n",
        "%mkdir cfg"
      ],
      "execution_count": null,
      "outputs": []
    },
    {
      "cell_type": "code",
      "metadata": {
        "id": "cKG8HZFes8ut"
      },
      "source": [
        "# Unzip the obj.zip dataset and its contents so that they are now in /darknet/data/ folder \n",
        "\n",
        "!unzip /mydrive/yolov4/obj.zip -d data/"
      ],
      "execution_count": null,
      "outputs": []
    },
    {
      "cell_type": "code",
      "metadata": {
        "id": "R_4kviylurEF"
      },
      "source": [
        "# Copy the yolov4-custom.cfg file so that it is now in /darknet/cfg/ folder \n",
        "\n",
        "!cp /mydrive/yolov4/yolov4-custom.cfg cfg\n",
        "\n",
        "# verify if your custom file is in cfg folder\n",
        "!ls cfg/"
      ],
      "execution_count": null,
      "outputs": []
    },
    {
      "cell_type": "code",
      "metadata": {
        "id": "_j6tBzGqv83I"
      },
      "source": [
        "# Copy the obj.names and obj.data files from your drive so that they are now in /darknet/data/ folder \n",
        "\n",
        "!cp /mydrive/yolov4/obj.names data\n",
        "!cp /mydrive/yolov4/obj.data  data\n",
        "\n",
        "# verify if the above files are in data folder\n",
        "!ls data/"
      ],
      "execution_count": null,
      "outputs": []
    },
    {
      "cell_type": "code",
      "metadata": {
        "id": "Su2Jcjynv9my"
      },
      "source": [
        "# Copy the process.py file to the current darknet directory \n",
        "\n",
        "!cp /mydrive/yolov4/process.py ."
      ],
      "execution_count": null,
      "outputs": []
    },
    {
      "cell_type": "markdown",
      "metadata": {
        "id": "PXqC6Jdnca8b"
      },
      "source": [
        "# **8) Run the *`process.py`* python script to create the *`train.txt`* & *`test.txt`* files inside the *data* folder**"
      ]
    },
    {
      "cell_type": "code",
      "metadata": {
        "id": "dhJ17EufwFp8"
      },
      "source": [
        "# run process.py ( this creates the train.txt and test.txt files in our darknet/data folder )\n",
        "!python process.py\n",
        "\n",
        "# list the contents of data folder to check if the train.txt and test.txt files have been created \n",
        "!ls data/"
      ],
      "execution_count": null,
      "outputs": []
    },
    {
      "cell_type": "markdown",
      "metadata": {
        "id": "Ja3ym-zPcw2e"
      },
      "source": [
        "# **9) Download the pre-trained *`yolov4`* weights**"
      ]
    },
    {
      "cell_type": "code",
      "metadata": {
        "id": "l6Sy14UfadVK"
      },
      "source": [
        "# Download the yolov4 pre-trained weights file\n",
        "!wget https://github.com/AlexeyAB/darknet/releases/download/darknet_yolo_v3_optimal/yolov4.conv.137"
      ],
      "execution_count": null,
      "outputs": []
    },
    {
      "cell_type": "markdown",
      "metadata": {
        "id": "j347nPDvv5R4"
      },
      "source": [
        "# **10) TRAINING**"
      ]
    },
    {
      "cell_type": "markdown",
      "metadata": {
        "id": "Pe-dldgMvdLF"
      },
      "source": [
        "## **Train your custom detector** \n",
        "\n",
        "For best results, you should stop the training when the average loss is less than 0.05 if possible or at least below 0.3, else train the model until the average loss does not show any significant change for a while."
      ]
    },
    {
      "cell_type": "code",
      "metadata": {
        "id": "imc0NP19hLuq"
      },
      "source": [
        "# train your custom detector! (uncomment %%capture below if you run into memory issues or your Colab is crashing)\n",
        "# %%capture\n",
        "\n",
        "!./darknet detector train data/obj.data cfg/yolov4-custom.cfg yolov4.conv.137 -dont_show -map"
      ],
      "execution_count": null,
      "outputs": []
    },
    {
      "cell_type": "code",
      "metadata": {
        "id": "X9z9whB7vdLH"
      },
      "source": [
        "# This stops 'Run all' at this cell by causing an error\n",
        "assert False"
      ],
      "execution_count": null,
      "outputs": []
    },
    {
      "cell_type": "markdown",
      "metadata": {
        "id": "Er-vGZk9Gxuc"
      },
      "source": [
        "### **<ins>NOTE</ins>:** If you get disconnected or lose your session for some reason you have to run steps 2, 5, and 6 again to mount the drive, edit makefile and build darknet every single time, otherwise the darknet executable will not work."
      ]
    },
    {
      "cell_type": "markdown",
      "metadata": {
        "id": "5gNvWI18ltTE"
      },
      "source": [
        "## **To restart your training (In case the training does not finish and you get disconnected)**\n",
        "\n",
        "If you get disconnected or lose your session, you don't have to start training your model from scratch again. You can restart training from where you left off. Use the weights that were saved last. The weights are saved every 100 iterations as ***yolov4-custom_last.weights*** in the ***yolov4/training*** folder on your drive. (The path we gave as backup in \"obj.data\" file).\n",
        "\n",
        "\n",
        "### **So to restart training run only Steps 2, 5, 6 and then run the following command**"
      ]
    },
    {
      "cell_type": "code",
      "metadata": {
        "id": "alYjxUlLhQET"
      },
      "source": [
        "#to restart training your custom detector where you left off(using the weights that were saved last)\n",
        "\n",
        "!./darknet detector train data/obj.data cfg/yolov4-custom.cfg /mydrive/yolov4/training/yolov4-custom_last.weights -dont_show -map\n"
      ],
      "execution_count": null,
      "outputs": []
    },
    {
      "cell_type": "markdown",
      "metadata": {
        "id": "CWglzkUVYeez"
      },
      "source": [
        "## **Use this simple hack for Auto-Click to avoid being kicked off Colab VM**\n",
        "\n",
        "Press (Ctrl + Shift + i) . Go to console. Paste the following code and press Enter.\n",
        "\n",
        "```\n",
        "function ClickConnect(){\n",
        "console.log(\"Working\"); \n",
        "document\n",
        "  .querySelector('#top-toolbar > colab-connect-button')\n",
        "  .shadowRoot.querySelector('#connect')\n",
        "  .click() \n",
        "}\n",
        "setInterval(ClickConnect,60000)\n",
        "```\n"
      ]
    },
    {
      "cell_type": "markdown",
      "metadata": {
        "id": "93ZR1Cv5iSiH"
      },
      "source": [
        "# **11) Check performance** \n",
        "\n"
      ]
    },
    {
      "cell_type": "code",
      "metadata": {
        "id": "GmjcPvWyarZ6"
      },
      "source": [
        "# define helper function imShow\n",
        "def imShow(path):\n",
        "  import cv2\n",
        "  import matplotlib.pyplot as plt\n",
        "  %matplotlib inline\n",
        "\n",
        "  image = cv2.imread(path)\n",
        "  height, width = image.shape[:2]\n",
        "  resized_image = cv2.resize(image,(3*width, 3*height), interpolation = cv2.INTER_CUBIC)\n",
        "\n",
        "  fig = plt.gcf()\n",
        "  fig.set_size_inches(18, 10)\n",
        "  plt.axis(\"off\")\n",
        "  plt.imshow(cv2.cvtColor(resized_image, cv2.COLOR_BGR2RGB))\n",
        "  plt.show()\n"
      ],
      "execution_count": null,
      "outputs": []
    },
    {
      "cell_type": "markdown",
      "metadata": {
        "id": "LfxMeSSO1cM1"
      },
      "source": [
        "**Check the training chart**"
      ]
    },
    {
      "cell_type": "code",
      "metadata": {
        "id": "oqS9hbGtauPT"
      },
      "source": [
        "#only works if the training does not get interrupted\n",
        "imShow('chart.png')"
      ],
      "execution_count": null,
      "outputs": []
    },
    {
      "cell_type": "markdown",
      "metadata": {
        "id": "Xa9j0M4-au8q"
      },
      "source": [
        "**Check mAP (mean average precision)**"
      ]
    },
    {
      "cell_type": "code",
      "metadata": {
        "id": "qhlceb1YiEwu"
      },
      "source": [
        "##You can check the mAP for all the saved weights to see which gives the best results ( xxxx here is the saved weight number like 4000, 5000 or 6000 snd so on )\n",
        "\n",
        "!./darknet detector map data/obj.data cfg/yolov4-custom.cfg /mydrive/yolov4/training/yolov4-custom_4000.weights -points 0"
      ],
      "execution_count": null,
      "outputs": []
    },
    {
      "cell_type": "markdown",
      "metadata": {
        "id": "lkVfpYU3vK-W"
      },
      "source": [
        "# **12) Test your custom Object Detector**"
      ]
    },
    {
      "cell_type": "markdown",
      "metadata": {
        "id": "hRoFfkBFT7Hm"
      },
      "source": [
        "## **Make changes to your custom config file**\n",
        "*   change line batch to batch=1\n",
        "*   change line subdivisions to subdivisions=1\n",
        "\n",
        "You can do it either manually or by simply running the code below"
      ]
    },
    {
      "cell_type": "code",
      "metadata": {
        "colab": {
          "background_save": true
        },
        "id": "UddToJtjkSaO"
      },
      "source": [
        "#set your custom cfg to test mode \n",
        "%cd cfg\n",
        "!sed -i 's/batch=64/batch=1/' yolov4-custom.cfg\n",
        "!sed -i 's/subdivisions=16/subdivisions=1/' yolov4-custom.cfg\n",
        "%cd .."
      ],
      "execution_count": null,
      "outputs": []
    },
    {
      "cell_type": "markdown",
      "metadata": {
        "id": "NGzCTHKliv16"
      },
      "source": [
        "## **Run detector on an image**"
      ]
    },
    {
      "cell_type": "code",
      "metadata": {
        "colab": {
          "background_save": true
        },
        "id": "VUBkR6JgU4tX"
      },
      "source": [
        "# run your custom detector with this command (upload an image to your google drive to test, the thresh flag sets the minimum accuracy required for object detection)\n",
        "\n",
        "!./darknet detector test data/obj.data cfg/yolov4-custom.cfg /mydrive/yolov4/training/yolov4-custom_best.weights /mydrive/mask_test_images/image1.jpg -thresh 0.3 \n",
        "imShow('predictions.jpg')"
      ],
      "execution_count": null,
      "outputs": []
    },
    {
      "cell_type": "markdown",
      "metadata": {
        "id": "Io0OaKMCV4DX"
      },
      "source": [
        "## **Run detector on a webcam image**"
      ]
    },
    {
      "cell_type": "code",
      "metadata": {
        "id": "8SXjyRtEQ20u"
      },
      "source": [
        "#run detector on images captured by webcam for your custom YOLOv4 trained model\n",
        "from IPython.display import display, Javascript\n",
        "from google.colab.output import eval_js\n",
        "from base64 import b64decode\n",
        "\n",
        "def take_photo(filename='photo.jpg', quality=0.8):\n",
        "  js = Javascript('''\n",
        "    async function takePhoto(quality) {\n",
        "      const div = document.createElement('div');\n",
        "      const capture = document.createElement('button');\n",
        "      capture.textContent = 'Capture';\n",
        "      div.appendChild(capture);\n",
        "\n",
        "      const video = document.createElement('video');\n",
        "      video.style.display = 'block';\n",
        "      const stream = await navigator.mediaDevices.getUserMedia({video: true});\n",
        "\n",
        "      document.body.appendChild(div);\n",
        "      div.appendChild(video);\n",
        "      video.srcObject = stream;\n",
        "      await video.play();\n",
        "\n",
        "      // Resize the output to fit the video element.\n",
        "      google.colab.output.setIframeHeight(document.documentElement.scrollHeight, true);\n",
        "\n",
        "      // Wait for Capture to be clicked.\n",
        "      await new Promise((resolve) => capture.onclick = resolve);\n",
        "\n",
        "      const canvas = document.createElement('canvas');\n",
        "      canvas.width = video.videoWidth;\n",
        "      canvas.height = video.videoHeight;\n",
        "      canvas.getContext('2d').drawImage(video, 0, 0);\n",
        "      stream.getVideoTracks()[0].stop();\n",
        "      div.remove();\n",
        "      return canvas.toDataURL('image/jpeg', quality);\n",
        "    }\n",
        "    ''')\n",
        "  display(js)\n",
        "  data = eval_js('takePhoto({})'.format(quality))\n",
        "  binary = b64decode(data.split(',')[1])\n",
        "  with open(filename, 'wb') as f:\n",
        "    f.write(binary)\n",
        "  return filename\n",
        "\n",
        "from IPython.display import Image\n",
        "try:\n",
        "  filename = take_photo()\n",
        "  print('Saved to {}'.format(filename))\n",
        "  \n",
        "  # Show the image which was just taken.\n",
        "  display(Image(filename))\n",
        "except Exception as err:\n",
        "  # Errors will be thrown if the user does not have a webcam or if they do not\n",
        "  # grant the page permission to access it.\n",
        "  print(str(err))\n",
        "\n",
        "!./darknet detector test data/obj.data cfg/yolov4-custom.cfg /mydrive/yolov4/training/yolov4-custom_best.weights photo.jpg -thresh 0.5\n",
        "imShow('predictions.jpg')   "
      ],
      "execution_count": null,
      "outputs": []
    },
    {
      "cell_type": "markdown",
      "metadata": {
        "id": "RUgEa-HVixkj"
      },
      "source": [
        "## **Run detector on a video**"
      ]
    },
    {
      "cell_type": "code",
      "metadata": {
        "id": "7l5oGEsquDMr"
      },
      "source": [
        "# run your custom detector on a video with this command (upload a video to your google drive to test, the thresh flag sets the minimum accuracy required for object detection).This saves the output video with the detections in your output path\n",
        "\n",
        "!./darknet detector demo data/obj.data cfg/yolov4-custom.cfg /mydrive/yolov4/training/yolov4-custom_best.weights -dont_show /mydrive/mask_test_videos/test3.mp4 -i 0 -out_filename /mydrive/mask_test_videos/finalresult.avi "
      ],
      "execution_count": null,
      "outputs": []
    },
    {
      "cell_type": "markdown",
      "metadata": {
        "id": "___wZk_UJo08"
      },
      "source": [
        "## **Run detector on a live webcam**"
      ]
    },
    {
      "cell_type": "code",
      "metadata": {
        "id": "EiSatc-T2Sbb"
      },
      "source": [
        "# Code from theAIGuysCode Github (https://github.com/theAIGuysCode/YOLOv4-Cloud-Tutorial/blob/master/yolov4_webcam.ipynb)\n",
        "# Adjusted for my custom YOLOv4 trained weights, config and obj.data files\n",
        "\n",
        "# import dependencies\n",
        "from IPython.display import display, Javascript, Image\n",
        "from google.colab.output import eval_js\n",
        "from google.colab.patches import cv2_imshow\n",
        "from base64 import b64decode, b64encode\n",
        "import cv2\n",
        "import numpy as np\n",
        "import PIL\n",
        "import io\n",
        "import html\n",
        "import time\n",
        "import matplotlib.pyplot as plt\n",
        "%matplotlib inline\n",
        "\n",
        "\n",
        "# import darknet functions to perform object detections\n",
        "from darknet import *\n",
        "# load in our YOLOv4 architecture network\n",
        "network, class_names, class_colors = load_network(\"cfg/yolov4-custom.cfg\", \"data/obj.data\", \"/mydrive/yolov4/training/yolov4-custom_best.weights\")\n",
        "width = network_width(network)\n",
        "height = network_height(network)\n",
        "\n",
        "# darknet helper function to run detection on image\n",
        "def darknet_helper(img, width, height):\n",
        "  darknet_image = make_image(width, height, 3)\n",
        "  img_rgb = cv2.cvtColor(img, cv2.COLOR_BGR2RGB)\n",
        "  img_resized = cv2.resize(img_rgb, (width, height),\n",
        "                              interpolation=cv2.INTER_LINEAR)\n",
        "\n",
        "  # get image ratios to convert bounding boxes to proper size\n",
        "  img_height, img_width, _ = img.shape\n",
        "  width_ratio = img_width/width\n",
        "  height_ratio = img_height/height\n",
        "\n",
        "  # run model on darknet style image to get detections\n",
        "  copy_image_from_bytes(darknet_image, img_resized.tobytes())\n",
        "  detections = detect_image(network, class_names, darknet_image)\n",
        "  free_image(darknet_image)\n",
        "  return detections, width_ratio, height_ratio\n",
        "\n",
        "# function to convert the JavaScript object into an OpenCV image\n",
        "def js_to_image(js_reply):\n",
        "  \"\"\"\n",
        "  Params:\n",
        "          js_reply: JavaScript object containing image from webcam\n",
        "  Returns:\n",
        "          img: OpenCV BGR image\n",
        "  \"\"\"\n",
        "  # decode base64 image\n",
        "  image_bytes = b64decode(js_reply.split(',')[1])\n",
        "  # convert bytes to numpy array\n",
        "  jpg_as_np = np.frombuffer(image_bytes, dtype=np.uint8)\n",
        "  # decode numpy array into OpenCV BGR image\n",
        "  img = cv2.imdecode(jpg_as_np, flags=1)\n",
        "\n",
        "  return img\n",
        "\n",
        "# function to convert OpenCV Rectangle bounding box image into base64 byte string to be overlayed on video stream\n",
        "def bbox_to_bytes(bbox_array):\n",
        "  \"\"\"\n",
        "  Params:\n",
        "          bbox_array: Numpy array (pixels) containing rectangle to overlay on video stream.\n",
        "  Returns:\n",
        "        bytes: Base64 image byte string\n",
        "  \"\"\"\n",
        "  # convert array into PIL image\n",
        "  bbox_PIL = PIL.Image.fromarray(bbox_array, 'RGBA')\n",
        "  iobuf = io.BytesIO()\n",
        "  # format bbox into png for return\n",
        "  bbox_PIL.save(iobuf, format='png')\n",
        "  # format return string\n",
        "  bbox_bytes = 'data:image/png;base64,{}'.format((str(b64encode(iobuf.getvalue()), 'utf-8')))\n",
        "\n",
        "  return bbox_bytes  \n",
        "\n",
        "# JavaScript to properly create our live video stream using our webcam as input\n",
        "def video_stream():\n",
        "  js = Javascript('''\n",
        "    var video;\n",
        "    var div = null;\n",
        "    var stream;\n",
        "    var captureCanvas;\n",
        "    var imgElement;\n",
        "    var labelElement;\n",
        "    \n",
        "    var pendingResolve = null;\n",
        "    var shutdown = false;\n",
        "    \n",
        "    function removeDom() {\n",
        "       stream.getVideoTracks()[0].stop();\n",
        "       video.remove();\n",
        "       div.remove();\n",
        "       video = null;\n",
        "       div = null;\n",
        "       stream = null;\n",
        "       imgElement = null;\n",
        "       captureCanvas = null;\n",
        "       labelElement = null;\n",
        "    }\n",
        "    \n",
        "    function onAnimationFrame() {\n",
        "      if (!shutdown) {\n",
        "        window.requestAnimationFrame(onAnimationFrame);\n",
        "      }\n",
        "      if (pendingResolve) {\n",
        "        var result = \"\";\n",
        "        if (!shutdown) {\n",
        "          captureCanvas.getContext('2d').drawImage(video, 0, 0, 640, 480);\n",
        "          result = captureCanvas.toDataURL('image/jpeg', 0.8)\n",
        "        }\n",
        "        var lp = pendingResolve;\n",
        "        pendingResolve = null;\n",
        "        lp(result);\n",
        "      }\n",
        "    }\n",
        "    \n",
        "    async function createDom() {\n",
        "      if (div !== null) {\n",
        "        return stream;\n",
        "      }\n",
        "\n",
        "      div = document.createElement('div');\n",
        "      div.style.border = '2px solid black';\n",
        "      div.style.padding = '3px';\n",
        "      div.style.width = '100%';\n",
        "      div.style.maxWidth = '600px';\n",
        "      document.body.appendChild(div);\n",
        "      \n",
        "      const modelOut = document.createElement('div');\n",
        "      modelOut.innerHTML = \"<span>Status:</span>\";\n",
        "      labelElement = document.createElement('span');\n",
        "      labelElement.innerText = 'No data';\n",
        "      labelElement.style.fontWeight = 'bold';\n",
        "      modelOut.appendChild(labelElement);\n",
        "      div.appendChild(modelOut);\n",
        "           \n",
        "      video = document.createElement('video');\n",
        "      video.style.display = 'block';\n",
        "      video.width = div.clientWidth - 6;\n",
        "      video.setAttribute('playsinline', '');\n",
        "      video.onclick = () => { shutdown = true; };\n",
        "      stream = await navigator.mediaDevices.getUserMedia(\n",
        "          {video: { facingMode: \"environment\"}});\n",
        "      div.appendChild(video);\n",
        "\n",
        "      imgElement = document.createElement('img');\n",
        "      imgElement.style.position = 'absolute';\n",
        "      imgElement.style.zIndex = 1;\n",
        "      imgElement.onclick = () => { shutdown = true; };\n",
        "      div.appendChild(imgElement);\n",
        "      \n",
        "      const instruction = document.createElement('div');\n",
        "      instruction.innerHTML = \n",
        "          '<span style=\"color: red; font-weight: bold;\">' +\n",
        "          'When finished, click here or on the video to stop this demo</span>';\n",
        "      div.appendChild(instruction);\n",
        "      instruction.onclick = () => { shutdown = true; };\n",
        "      \n",
        "      video.srcObject = stream;\n",
        "      await video.play();\n",
        "\n",
        "      captureCanvas = document.createElement('canvas');\n",
        "      captureCanvas.width = 640; //video.videoWidth;\n",
        "      captureCanvas.height = 480; //video.videoHeight;\n",
        "      window.requestAnimationFrame(onAnimationFrame);\n",
        "      \n",
        "      return stream;\n",
        "    }\n",
        "    async function stream_frame(label, imgData) {\n",
        "      if (shutdown) {\n",
        "        removeDom();\n",
        "        shutdown = false;\n",
        "        return '';\n",
        "      }\n",
        "\n",
        "      var preCreate = Date.now();\n",
        "      stream = await createDom();\n",
        "      \n",
        "      var preShow = Date.now();\n",
        "      if (label != \"\") {\n",
        "        labelElement.innerHTML = label;\n",
        "      }\n",
        "            \n",
        "      if (imgData != \"\") {\n",
        "        var videoRect = video.getClientRects()[0];\n",
        "        imgElement.style.top = videoRect.top + \"px\";\n",
        "        imgElement.style.left = videoRect.left + \"px\";\n",
        "        imgElement.style.width = videoRect.width + \"px\";\n",
        "        imgElement.style.height = videoRect.height + \"px\";\n",
        "        imgElement.src = imgData;\n",
        "      }\n",
        "      \n",
        "      var preCapture = Date.now();\n",
        "      var result = await new Promise(function(resolve, reject) {\n",
        "        pendingResolve = resolve;\n",
        "      });\n",
        "      shutdown = false;\n",
        "      \n",
        "      return {'create': preShow - preCreate, \n",
        "              'show': preCapture - preShow, \n",
        "              'capture': Date.now() - preCapture,\n",
        "              'img': result};\n",
        "    }\n",
        "    ''')\n",
        "\n",
        "  display(js)\n",
        "  \n",
        "def video_frame(label, bbox):\n",
        "  data = eval_js('stream_frame(\"{}\", \"{}\")'.format(label, bbox))\n",
        "  return data\n",
        "\n",
        "# start streaming video from webcam\n",
        "video_stream()\n",
        "# label for video\n",
        "label_html = 'Capturing...'\n",
        "# initialze bounding box to empty\n",
        "bbox = ''\n",
        "count = 0 \n",
        "while True:\n",
        "    js_reply = video_frame(label_html, bbox)\n",
        "    if not js_reply:\n",
        "        break\n",
        "\n",
        "    # convert JS response to OpenCV Image\n",
        "    frame = js_to_image(js_reply[\"img\"])\n",
        "\n",
        "    # create transparent overlay for bounding box\n",
        "    bbox_array = np.zeros([480,640,4], dtype=np.uint8)\n",
        "\n",
        "    # call our darknet helper on video frame\n",
        "    detections, width_ratio, height_ratio = darknet_helper(frame, width, height)\n",
        "\n",
        "    # loop through detections and draw them on transparent overlay image\n",
        "    for label, confidence, bbox in detections:\n",
        "      left, top, right, bottom = bbox2points(bbox)\n",
        "      left, top, right, bottom = int(left * width_ratio), int(top * height_ratio), int(right * width_ratio), int(bottom * height_ratio)\n",
        "      bbox_array = cv2.rectangle(bbox_array, (left, top), (right, bottom), class_colors[label], 2)\n",
        "      bbox_array = cv2.putText(bbox_array, \"{} [{:.2f}]\".format(label, float(confidence)),\n",
        "                        (left, top - 5), cv2.FONT_HERSHEY_SIMPLEX, 0.5,\n",
        "                        class_colors[label], 2)\n",
        "\n",
        "    bbox_array[:,:,3] = (bbox_array.max(axis = 2) > 0 ).astype(int) * 255\n",
        "    # convert overlay of bbox into bytes\n",
        "    bbox_bytes = bbox_to_bytes(bbox_array)\n",
        "    # update bbox so next frame gets new overlay\n",
        "    bbox = bbox_bytes   "
      ],
      "execution_count": null,
      "outputs": []
    }
  ]
}